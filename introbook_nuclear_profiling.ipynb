{
 "cells": [
  {
   "cell_type": "markdown",
   "metadata": {},
   "source": [
    "# Nuclei profiling - module introduction\n",
    "\n",
    "Unstable release - test notebook to showcase modules of the framework. The framework is first and foremost designed for easy graphical representation of the nuclear structure, using the Plotly Python module. Additional features such as the projection of the nucleon density can also be extracted. Additional features might be added on occasions. This showcase \"book\" outlines some of the basic properties of the python module.<br> <br>\n",
    "Default renderer uses 'iframe' -> saves figures in HTML in folder \"iframe_figures\" (best performance but remember to clear folder occasionally)"
   ]
  },
  {
   "cell_type": "code",
   "execution_count": 1,
   "metadata": {},
   "outputs": [],
   "source": [
    "# Plotting tools\n",
    "import plotly.graph_objects as go\n",
    "from plotly.subplots import make_subplots\n",
    "import plotly.io as pio\n",
    "pio.renderers.default = \"iframe\"       #'iframe' or 'notebook' or 'colab' or 'jupyterlab' 'browser'\n",
    "# Math tools\n",
    "import numpy as np"
   ]
  },
  {
   "cell_type": "code",
   "execution_count": 2,
   "metadata": {},
   "outputs": [],
   "source": [
    "# The magic\n",
    "from nuclear_profile import NuclearProfile"
   ]
  },
  {
   "cell_type": "markdown",
   "metadata": {},
   "source": [
    "# Shape enginering with spherical harmonics"
   ]
  },
  {
   "cell_type": "markdown",
   "metadata": {},
   "source": [
    "Most atomic nuclei exhibit some sort of intrinsic deformation due to the multipole moments of the nucleon distribution function. Consequently, the nuclear structure can be of very complex forms which are not easily modeled. Though, experts in the field have come up with clever ways of modeling these structures in terms of the spherical harmonics, which often are known for their relation to the electron orbitals. These shape variations can be modeled by an equation for the radius $R(\\theta, \\varphi)$ that utilizes these harmonics, where each corresponds to the magnitude of the multipole moment \n",
    "\n",
    "$$R'(\\theta, \\phi)= R_0 (1 + \\beta_2 (\\cos(\\gamma) Y_2^0(\\theta) + \\frac{1}{\\sqrt(2)}\\sin(\\gamma) Y_2^2(\\theta, \\phi)) + \\beta_3Y_3^0 + \\beta_4Y_4^0) $$\n",
    "\n",
    "Here $R_0$ denotes the rms radius of the nuclei, $\\beta_n$ the n´th multipole moment of the nucleon distribution, $\\gamma$ the angular asymmetry, and $Y_{\\ell}^m(\\theta, \\phi)$ denotes the spherical harmonics. For a perfect sphere $\\beta_2=\\beta_3=\\beta_4=0$, the resulting surface radius would be constant $R'(\\theta, \\phi)= R_0$\n",
    "\n",
    "### The wood-saxon density profile\n",
    "\n",
    "The Wood-Saxon profile is a function commonly used to describe the nuclear density distribution of nuclei. It provides an approximate representation of how nucleons (protons and neutrons) are distributed within the nucleus. The Wood-Saxon profile can account for the effects of nuclear shape deformation on the nucleon density by using the equation for the deformed surface, as outlined above.\n",
    "\n",
    "$$\\large\\rho (\\theta, \\phi)=   \\frac{\\rho_0}{1+\\exp\\left(\\frac{r-R'(\\theta, \\phi)}{a_0}\\right)} $$"
   ]
  },
  {
   "cell_type": "markdown",
   "metadata": {},
   "source": [
    "#### <u>Constructor\n",
    "\n",
    "Each nuclei are quickly initilized through their constructor ***NuclearProfile(R0, a0, beta2=0, gamma=0, beta3=0, beta4=0)***. The most basic information needed are the nuclear radius $R_0$ and the deffusion $a_0$. The deformation can further be changed through the class methods ***set_beta2(..)***, ***set_beta3(..)*** and ***set_beta4(..)***"
   ]
  },
  {
   "cell_type": "markdown",
   "metadata": {},
   "source": [
    "## Quadrupole deformation\n",
    "\n",
    "A small example is to illustrate the nuclear shape with quadrupole deformation $\\beta_2$, and triaxiality $\\gamma$ is provided. The example illustrate the possible difference in shape for nuclei with same quadrupole deformation."
   ]
  },
  {
   "cell_type": "code",
   "execution_count": 3,
   "metadata": {},
   "outputs": [],
   "source": [
    "# Initilize nuclei with unit radius and arbitrary deffusion, varying the triaxiality\n",
    "Prolate  = NuclearProfile(R0=1., a0=0.1, beta2=0.25, gamma=0)\n",
    "TriAxial = NuclearProfile(R0=1., a0=0.1, beta2=0.25, gamma=30)\n",
    "Oblate   = NuclearProfile(R0=1., a0=0.1, beta2=0.25, gamma=60)\n",
    "quadrupoles = [Prolate, TriAxial, Oblate]"
   ]
  },
  {
   "cell_type": "code",
   "execution_count": 4,
   "metadata": {},
   "outputs": [
    {
     "data": {
      "text/html": [
       "<iframe\n",
       "    scrolling=\"no\"\n",
       "    width=\"100%\"\n",
       "    height=\"545px\"\n",
       "    src=\"iframe_figures/figure_4.html\"\n",
       "    frameborder=\"0\"\n",
       "    allowfullscreen\n",
       "></iframe>\n"
      ]
     },
     "metadata": {},
     "output_type": "display_data"
    }
   ],
   "source": [
    "# prepare figure to hold nuclei surfaces\n",
    "fig = make_subplots(rows=1, cols=3,\n",
    "                    specs=[[{'is_3d': True}, {'is_3d': True},  {'is_3d': True}]],\n",
    "                    subplot_titles=['Prolate', 'Tri-Axial', 'Oblate'],\n",
    "                   )\n",
    "\n",
    "for idx, profile, in enumerate(quadrupoles):\n",
    "    Rx, Ry, Rz = profile.GetSurface()          # Get the nuclie surface\n",
    "    Wx, Wy, Wz = profile.GetWireFrame()        # Get the wireframe (mainly for nice plotting)\n",
    "    \n",
    "    fig.add_trace(go.Surface(x=Rx, y=Ry, z=Rz, surfacecolor=Rx**2 + Ry**2 + Rz**2, showscale=False, colorscale='Plasma'), 1, idx+1)\n",
    "    fig.add_trace(go.Scatter3d(x=Wx, y=Wy, z=Wz, mode='lines', line_width=1, line_color='rgba(10,10,10, 1)'), 1, idx+1)\n",
    "fig.update_scenes(xaxis_visible=False, yaxis_visible=False,zaxis_visible=False )\n",
    "fig.update_layout(showlegend=False)\n",
    "fig.show()"
   ]
  },
  {
   "cell_type": "markdown",
   "metadata": {},
   "source": [
    "# Nuclear diffusion\n",
    "\n",
    "The nuclear defusion describes the rate of density falloff, as the distance from the center increases. This feature can be illustrated by getting the complete density grid for the nuclei and plotting it in a volume plot. The examples show two types of diffusion known as skin-like and halo-like."
   ]
  },
  {
   "cell_type": "code",
   "execution_count": 5,
   "metadata": {},
   "outputs": [],
   "source": [
    "SkinLike = NuclearProfile(R0=1., beta2=0.18, gamma=27, a0=0.075)\n",
    "HaloLike = NuclearProfile(R0=1., beta2=0.18, gamma=27, a0=0.3)\n",
    "skintypes = [SkinLike, HaloLike]"
   ]
  },
  {
   "cell_type": "code",
   "execution_count": 6,
   "metadata": {},
   "outputs": [
    {
     "data": {
      "text/html": [
       "<iframe\n",
       "    scrolling=\"no\"\n",
       "    width=\"100%\"\n",
       "    height=\"545px\"\n",
       "    src=\"iframe_figures/figure_6.html\"\n",
       "    frameborder=\"0\"\n",
       "    allowfullscreen\n",
       "></iframe>\n"
      ]
     },
     "metadata": {},
     "output_type": "display_data"
    }
   ],
   "source": [
    "scount=[20, 30]\n",
    "sopacity=[0.1, 0.1]\n",
    "fig = make_subplots(rows=1, cols=2,\n",
    "                    specs=[[{'is_3d': True}, {'is_3d': True}]],\n",
    "                    subplot_titles=['Skin like', 'Halo like'], horizontal_spacing = 0.01,vertical_spacing = 0.01)\n",
    "\n",
    "for idx, profile, in enumerate(skintypes):\n",
    "    Rhox, Rhoy, Rhoz, density = profile.GetDensityGrid()     # Get the density at each point in space\n",
    "    fig.add_trace(go.Volume(x=Rhox.flatten(), y=Rhoy.flatten(), z=Rhoz.flatten(), value=density.flatten(),\n",
    "    isomin=0.05, isomax=0.4, opacity=sopacity[idx], surface_count=scount[idx], showscale=False), 1, idx+1)\n",
    "\n",
    "fig.show()"
   ]
  },
  {
   "cell_type": "markdown",
   "metadata": {},
   "source": [
    "# Plane projection of density profile\n",
    "\n",
    "The xy projection can be obtained by NuclearProfile.GetProjection(\"XY\"). Likewise, the projections can also be obtained in the \"YZ\" and \"ZX\" plane, the order of the letters does not matter, ie. \"XY\"=\"YX\". "
   ]
  },
  {
   "cell_type": "code",
   "execution_count": 7,
   "metadata": {},
   "outputs": [],
   "source": [
    "nuclei = NuclearProfile(R0=1., a0=0.15, beta2=0.20, gamma=30)\n",
    "projections = [\"XY\", \"XZ\", \"YZ\"]"
   ]
  },
  {
   "cell_type": "code",
   "execution_count": 8,
   "metadata": {},
   "outputs": [
    {
     "data": {
      "text/html": [
       "<iframe\n",
       "    scrolling=\"no\"\n",
       "    width=\"1020px\"\n",
       "    height=\"670\"\n",
       "    src=\"iframe_figures/figure_8.html\"\n",
       "    frameborder=\"0\"\n",
       "    allowfullscreen\n",
       "></iframe>\n"
      ]
     },
     "metadata": {},
     "output_type": "display_data"
    }
   ],
   "source": [
    "fig = make_subplots(rows=2, cols=3, subplot_titles=['XY-Projection', 'XZ-Projection', 'YZ-Projection'],\n",
    "                   horizontal_spacing = 0.05, vertical_spacing=0.05)\n",
    "\n",
    "for idx, iprojection, in enumerate(projections):\n",
    "    xaxis, yaxis, values = nuclei.GetProjection(iprojection)     # .GetProjection()\n",
    "    fig.add_trace(go.Heatmap(x=xaxis, y=yaxis, z=values, showscale=False, connectgaps=True, zsmooth='best'), 1, idx+1)\n",
    "    fig.add_trace(go.Contour(x=xaxis, y=yaxis, z=values,contours_coloring='heatmap', contours=dict(coloring ='heatmap', showlabels=True), showscale=False), 2, idx+1)\n",
    "    fig.update_layout(height=650, width=1000, showlegend=False, title_text=\"\")\n",
    "fig.show()"
   ]
  }
 ],
 "metadata": {
  "kernelspec": {
   "display_name": "Python 3 (ipykernel)",
   "language": "python",
   "name": "python3"
  },
  "language_info": {
   "codemirror_mode": {
    "name": "ipython",
    "version": 3
   },
   "file_extension": ".py",
   "mimetype": "text/x-python",
   "name": "python",
   "nbconvert_exporter": "python",
   "pygments_lexer": "ipython3",
   "version": "3.11.3"
  },
  "vscode": {
   "interpreter": {
    "hash": "916dbcbb3f70747c44a77c7bcd40155683ae19c65e1c03b4aa3499c5328201f1"
   }
  }
 },
 "nbformat": 4,
 "nbformat_minor": 4
}
